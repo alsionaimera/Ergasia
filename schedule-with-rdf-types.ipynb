
import csv
urilist = []
with open('programa4.csv','r',newline='') as ifp:
    reader = csv.reader(ifp)
    for row in reader:
         urilist.append(row)
print(urilist)



NTriplesList = []
for s,p,o in urilist :
    if (p == p == 'http://dilab77.ionio.gr/swp/c17aimer/vocab#Εναρξη') or (p == 'http://dilab77.ionio.gr/swp/c17aimer/vocab#Λήξη') :
        o =  '"' + o + ':00"' + '^^<http://www.w3.org/2001/XMLSchema#time>'
    elif   p == 'http://dilab77.ionio.gr/swp/c17aimer/vocab#Ημέρα':
         o = '"' + o + '"'
    elif  (p == p == 'http://dilab77.ionio.gr/swp/c17aimer/vocab#Καθηγητής'):
           s = '<http://www.w3.org/1999/02/22-rdf-syntax-ns#type>'
           o='<'+o+'>'
        
    elif (p == 'http://dilab77.ionio.gr/swp/c17aimer/vocab#Μάθημα') :
          s = '<http://www.w3.org/1999/02/22-rdf-syntax-ns#type>'
          o='<'+o+'>'
         
    elif (p == 'http://dilab77.ionio.gr/swp/c17aimer/vocab#Αίθουσα'):
          s = '<http://www.w3.org/1999/02/22-rdf-syntax-ns#type>'
          o='<'+o+'>'
                
    else :
        o = '<' + o + '>'    
    p = '<' + p + '>'
    NTriplesList.append([s,p,o])
    
print(NTriplesList)


with open('Triples2.nt','w') as ofp:
    for s,p,o in NTriplesList:
        thisLine  = s +' '+ p +' ' + o + '.'  + '\n'
        ofp.write(thisLine)

!riot --validate Triples2.nt

!riot --output=turtle Triples2.nt > Triple2.ttl
